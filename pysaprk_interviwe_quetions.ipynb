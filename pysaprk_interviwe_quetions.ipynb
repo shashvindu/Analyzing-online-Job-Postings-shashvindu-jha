{
  "nbformat": 4,
  "nbformat_minor": 0,
  "metadata": {
    "colab": {
      "provenance": [],
      "authorship_tag": "ABX9TyMOy1ZemJ9Oc0QMbJxcB6ik",
      "include_colab_link": true
    },
    "kernelspec": {
      "name": "python3",
      "display_name": "Python 3"
    },
    "language_info": {
      "name": "python"
    }
  },
  "cells": [
    {
      "cell_type": "markdown",
      "metadata": {
        "id": "view-in-github",
        "colab_type": "text"
      },
      "source": [
        "<a href=\"https://colab.research.google.com/github/shashvindu/Analyzing-online-Job-Postings-shashvindu-jha/blob/main/pysaprk_interviwe_quetions.ipynb\" target=\"_parent\"><img src=\"https://colab.research.google.com/assets/colab-badge.svg\" alt=\"Open In Colab\"/></a>"
      ]
    },
    {
      "cell_type": "code",
      "execution_count": null,
      "metadata": {
        "id": "X8XciMfCg_pY"
      },
      "outputs": [],
      "source": []
    }
  ]
}